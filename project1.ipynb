{
 "cells": [
  {
   "cell_type": "markdown",
   "metadata": {},
   "source": [
    "# Project EDA\n",
    " - We explored predicting either the Severity or the Collision Type\n",
    "     - The collision type is more evenly distributed\n",
    "     - The severity is predicted more accurately (possibly, to be expected due to the distribution)"
   ]
  },
  {
   "cell_type": "code",
   "execution_count": 1,
   "metadata": {},
   "outputs": [],
   "source": [
    "# some useful mysklearn package import statements and reloads\n",
    "import importlib\n",
    "\n",
    "import mysklearn.myutils\n",
    "importlib.reload(mysklearn.myutils)\n",
    "import mysklearn.myutils as myutils\n",
    "\n",
    "import mysklearn.mypytable\n",
    "importlib.reload(mysklearn.mypytable)\n",
    "from mysklearn.mypytable import MyPyTable \n",
    "\n",
    "import juputils\n",
    "importlib.reload(juputils)\n",
    "\n",
    "import mysklearn.myclassifiers\n",
    "importlib.reload(mysklearn.myclassifiers)\n",
    "from mysklearn.myclassifiers import MyKNeighborsClassifier, MySimpleLinearRegressor, MyNaiveBayesClassifier, MyDecisionTreeClassifier\n",
    "\n",
    "import mysklearn.myevaluation\n",
    "importlib.reload(mysklearn.myevaluation)\n",
    "import mysklearn.myevaluation as myevaluation"
   ]
  },
  {
   "cell_type": "code",
   "execution_count": 2,
   "metadata": {},
   "outputs": [
    {
     "name": "stdout",
     "output_type": "stream",
     "text": [
      "['Injury Collision', 'Property Damage Only Collision', 'Serious Injury Collision', 'Unknown', 'Fatality Collision']\n",
      "[1399, 3206, 74, 810, 11]\n",
      "['Angles', 'Parked Car', 'Left Turn', 'Other', 'Sideswipe', 'Rear Ended', '', 'Pedestrian', 'Cycles', 'Right Turn', 'Head On']\n",
      "[828, 1113, 338, 614, 430, 870, 909, 162, 117, 63, 56]\n"
     ]
    }
   ],
   "source": [
    "import os\n",
    "importlib.reload(juputils)\n",
    "\n",
    "fname = os.path.join(\"input_data\", \"collisions.csv\")\n",
    "collisions_data = MyPyTable().load_from_file(fname)\n",
    "\n",
    "class_labels = collisions_data.get_column('SEVERITYDESC')\n",
    "\n",
    "severity_unique_labels = juputils.get_unique(class_labels)\n",
    "print(severity_unique_labels)\n",
    "\n",
    "print(juputils.get_counts(class_labels, severity_unique_labels))\n",
    "\n",
    "class_labels = collisions_data.get_column('COLLISIONTYPE')\n",
    "\n",
    "collision_unique_labels = juputils.get_unique(class_labels)\n",
    "print(collision_unique_labels)\n",
    "\n",
    "print(juputils.get_counts(class_labels, collision_unique_labels))"
   ]
  },
  {
   "cell_type": "code",
   "execution_count": 3,
   "metadata": {},
   "outputs": [
    {
     "name": "stdout",
     "output_type": "stream",
     "text": [
      "TREE FOR COLLISION SEVERITY\n",
      "Tree: accuracy = 0.6523364485981309 error rate =  0.3476635514018691\n"
     ]
    }
   ],
   "source": [
    "import os\n",
    "importlib.reload(juputils)\n",
    "\n",
    "print('TREE FOR COLLISION SEVERITY')\n",
    "\n",
    "fname = os.path.join(\"input_data\", \"collisions.csv\")\n",
    "collisions_data = MyPyTable().load_from_file(fname)\n",
    "# Use: WEATHER, ROADCOND, LIGHTCOND, JUNCTIONTYPE\n",
    "# Predict: SEVERITYDESC\n",
    "weather = collisions_data.get_column('WEATHER')\n",
    "road_condition = collisions_data.get_column('ROADCOND')\n",
    "light_condition = collisions_data.get_column('LIGHTCOND')\n",
    "junction_type = collisions_data.get_column('JUNCTIONTYPE')\n",
    "\n",
    "X_train = [[weather[i],road_condition[i],light_condition[i],junction_type[i]] for i in range(len(weather))]\n",
    "y_train = collisions_data.get_column('SEVERITYDESC')\n",
    "\n",
    "for i,val in enumerate(y_train):\n",
    "    if val == 'Unknown':\n",
    "        del y_train[i]\n",
    "        del X_train[i]\n",
    "\n",
    "strattrain_folds, strattest_folds = myevaluation.stratified_kfold_cross_validation(X_train, y_train, 10)\n",
    "strat_xtrain, strat_ytrain, strat_xtest, strat_ytest = myutils.get_from_folds(X_train, y_train, strattrain_folds, strattest_folds)\n",
    "\n",
    "myt = MyDecisionTreeClassifier()\n",
    "myt.fit(strat_xtrain, strat_ytrain)\n",
    "\n",
    "predicted = myt.predict(strat_xtest)\n",
    "accuracy = juputils.get_accuracy(strat_ytest, predicted)\n",
    "print('Tree: accuracy =', accuracy, 'error rate = ', (1-accuracy))"
   ]
  },
  {
   "cell_type": "code",
   "execution_count": 4,
   "metadata": {},
   "outputs": [
    {
     "name": "stdout",
     "output_type": "stream",
     "text": [
      "===========================================\n",
      "Confusion Matrix For Severity and Tree\n",
      "===========================================\n",
      "\n",
      "======  ====  ===  ===  ===  =======  =================\n",
      "  Cars     1    2    3    4    Total    Recognition (%)\n",
      "======  ====  ===  ===  ===  =======  =================\n",
      "     1  3056    0    0    0     3057              99.97\n",
      "     2    71    0    0    0       73               0\n",
      "     3   125    0    0    0      128               0\n",
      "     4    10    0    0    0       14               0\n",
      "======  ====  ===  ===  ===  =======  =================\n"
     ]
    }
   ],
   "source": [
    "print('===========================================\\n\\\n",
    "Confusion Matrix For Severity and Tree\\n\\\n",
    "===========================================\\n')\n",
    "matrix = myevaluation.confusion_matrix(strat_ytest, predicted, severity_unique_labels)\n",
    "table_header = ['Cars', 1,2, 3 ,4, 'Total', 'Recognition (%)']\n",
    "juputils.add_conf_stats(matrix)\n",
    "juputils.print_tabulate(matrix, table_header)"
   ]
  },
  {
   "cell_type": "code",
   "execution_count": 5,
   "metadata": {},
   "outputs": [
    {
     "name": "stdout",
     "output_type": "stream",
     "text": [
      "NAIVE BAYES FOR COLLISION SEVERITY\n",
      "Naive Bayes: accuracy = 0.6610591900311527 error rate =  0.33894080996884735\n"
     ]
    }
   ],
   "source": [
    "import os\n",
    "importlib.reload(juputils)\n",
    "\n",
    "print('NAIVE BAYES FOR COLLISION SEVERITY')\n",
    "\n",
    "fname = os.path.join(\"input_data\", \"collisions.csv\")\n",
    "collisions_data = MyPyTable().load_from_file(fname)\n",
    "# Use: WEATHER, ROADCOND, LIGHTCOND, JUNCTIONTYPE\n",
    "# Predict: SEVERITYDESC\n",
    "weather = collisions_data.get_column('WEATHER')\n",
    "road_condition = collisions_data.get_column('ROADCOND')\n",
    "light_condition = collisions_data.get_column('LIGHTCOND')\n",
    "junction_type = collisions_data.get_column('JUNCTIONTYPE')\n",
    "\n",
    "X_train = [[weather[i],road_condition[i],light_condition[i],junction_type[i]] for i in range(len(weather))]\n",
    "y_train = collisions_data.get_column('SEVERITYDESC')\n",
    "\n",
    "for i,val in enumerate(y_train):\n",
    "    if val == 'Unknown':\n",
    "        del y_train[i]\n",
    "        del X_train[i]\n",
    "\n",
    "strattrain_folds, strattest_folds = myevaluation.stratified_kfold_cross_validation(X_train, y_train, 10)\n",
    "strat_xtrain, strat_ytrain, strat_xtest, strat_ytest = myutils.get_from_folds(X_train, y_train, strattrain_folds, strattest_folds)\n",
    "\n",
    "myb = MyNaiveBayesClassifier()\n",
    "myb.fit(strat_xtrain, strat_ytrain)\n",
    "\n",
    "predicted = myb.predict(strat_xtest)\n",
    "accuracy = juputils.get_accuracy(strat_ytest, predicted)\n",
    "print('Naive Bayes: accuracy =', accuracy, 'error rate = ', (1-accuracy))"
   ]
  },
  {
   "cell_type": "code",
   "execution_count": 6,
   "metadata": {},
   "outputs": [
    {
     "name": "stdout",
     "output_type": "stream",
     "text": [
      "===========================================\n",
      "Confusion Matrix For Severity and Bayes\n",
      "===========================================\n",
      "\n",
      "======  ====  ===  ===  ===  =======  =================\n",
      "  Cars     1    2    3    4    Total    Recognition (%)\n",
      "======  ====  ===  ===  ===  =======  =================\n",
      "     1  2728    0   79    0     2808              97.15\n",
      "     2    45    0    3    0       50               0\n",
      "     3     0    0  125    0      128              97.66\n",
      "     4    10    0    0    0       14               0\n",
      "======  ====  ===  ===  ===  =======  =================\n"
     ]
    }
   ],
   "source": [
    "print('===========================================\\n\\\n",
    "Confusion Matrix For Severity and Bayes\\n\\\n",
    "===========================================\\n')\n",
    "matrix = myevaluation.confusion_matrix(strat_ytest, predicted, severity_unique_labels)\n",
    "table_header = ['Cars', 1,2, 3 ,4, 'Total', 'Recognition (%)']\n",
    "juputils.add_conf_stats(matrix)\n",
    "juputils.print_tabulate(matrix, table_header)"
   ]
  },
  {
   "cell_type": "code",
   "execution_count": 7,
   "metadata": {},
   "outputs": [
    {
     "name": "stdout",
     "output_type": "stream",
     "text": [
      "DECISION TREE FOR COLLISION TYPE\n",
      "Tree: accuracy = 0.20672727272727273 error rate =  0.7932727272727272\n"
     ]
    }
   ],
   "source": [
    "import os\n",
    "importlib.reload(juputils)\n",
    "\n",
    "print('DECISION TREE FOR COLLISION TYPE')\n",
    "\n",
    "fname = os.path.join(\"input_data\", \"collisions.csv\")\n",
    "collisions_data = MyPyTable().load_from_file(fname)\n",
    "# Use: WEATHER, ROADCOND, LIGHTCOND, JUNCTIONTYPE\n",
    "# Predict: SEVERITYDESC\n",
    "weather = collisions_data.get_column('WEATHER')\n",
    "road_condition = collisions_data.get_column('ROADCOND')\n",
    "light_condition = collisions_data.get_column('LIGHTCOND')\n",
    "junction_type = collisions_data.get_column('JUNCTIONTYPE')\n",
    "severity = collisions_data.get_column('SEVERITYDESC')\n",
    "\n",
    "X_train = [[weather[i],road_condition[i],light_condition[i],junction_type[i],severity[i]] for i in range(len(weather))]\n",
    "y_train = collisions_data.get_column('COLLISIONTYPE')\n",
    "\n",
    "for i,val in enumerate(y_train):\n",
    "    if val == 'Unknown':\n",
    "        del y_train[i]\n",
    "        del X_train[i]\n",
    "\n",
    "strattrain_folds, strattest_folds = myevaluation.stratified_kfold_cross_validation(X_train, y_train, 10)\n",
    "strat_xtrain, strat_ytrain, strat_xtest, strat_ytest = myutils.get_from_folds(X_train, y_train, strattrain_folds, strattest_folds)\n",
    "\n",
    "myt = MyDecisionTreeClassifier()\n",
    "myt.fit(strat_xtrain, strat_ytrain)\n",
    "\n",
    "predicted = myt.predict(strat_xtest)\n",
    "accuracy = juputils.get_accuracy(strat_ytest, predicted)\n",
    "print('Tree: accuracy =', accuracy, 'error rate = ', (1-accuracy))"
   ]
  },
  {
   "cell_type": "code",
   "execution_count": 8,
   "metadata": {},
   "outputs": [
    {
     "name": "stdout",
     "output_type": "stream",
     "text": [
      "===========================================\n",
      "Confusion Matrix For Collision Type and Tree\n",
      "===========================================\n",
      "\n",
      "======  ===  ===  ===  ===  ===  ===  ===  ===  ===  ====  =======  =================\n",
      "  Cars    1    2    3    4    5    6    7    8    9    10    Total    Recognition (%)\n",
      "======  ===  ===  ===  ===  ===  ===  ===  ===  ===  ====  =======  =================\n",
      "     1  243    8  316    0   49    0    4  459    0     0     1080              22.5\n",
      "     2    4   10   18    0   10    0   74   28    0     0      146               6.85\n",
      "     3   16    4  231    0   25    0   40  240    0     0      559              41.32\n",
      "     4   11    6  126    0   18    0   19  185    0     0      369               0\n",
      "     5   17   10  387    0   53    0   10  335    0     0      817               6.49\n",
      "     6  909    0    0    0    0    0    0    0    0     0      915               0\n",
      "     7    8    2   15    0    8    0   32   30    0     0      102              31.37\n",
      "     8    3    1    7    0    5    0    7   33    0     0       64              51.56\n",
      "     9    0    1   14    0    2    0    8   12    0     0       46               0\n",
      "    10    1    1   20    0    5    0    1   21    0     0       59               0\n",
      "======  ===  ===  ===  ===  ===  ===  ===  ===  ===  ====  =======  =================\n"
     ]
    }
   ],
   "source": [
    "print('===========================================\\n\\\n",
    "Confusion Matrix For Collision Type and Tree\\n\\\n",
    "===========================================\\n')\n",
    "matrix = myevaluation.confusion_matrix(strat_ytest, predicted, collision_unique_labels)\n",
    "table_header = ['Cars', 1,2, 3 ,4, 5, 6, 7, 8,9,10, 'Total', 'Recognition (%)']\n",
    "juputils.add_conf_stats(matrix)\n",
    "juputils.print_tabulate(matrix, table_header)"
   ]
  },
  {
   "cell_type": "code",
   "execution_count": 9,
   "metadata": {},
   "outputs": [
    {
     "name": "stdout",
     "output_type": "stream",
     "text": [
      "NAIVE BAYES FOR COLLISION TYPE\n",
      "Naive Bayes: accuracy = 0.5887272727272728 error rate =  0.41127272727272723\n"
     ]
    }
   ],
   "source": [
    "import os\n",
    "importlib.reload(juputils)\n",
    "\n",
    "print('NAIVE BAYES FOR COLLISION TYPE')\n",
    "\n",
    "fname = os.path.join(\"input_data\", \"collisions.csv\")\n",
    "collisions_data = MyPyTable().load_from_file(fname)\n",
    "# Use: WEATHER, ROADCOND, LIGHTCOND, JUNCTIONTYPE\n",
    "# Predict: SEVERITYDESC\n",
    "weather = collisions_data.get_column('WEATHER')\n",
    "road_condition = collisions_data.get_column('ROADCOND')\n",
    "light_condition = collisions_data.get_column('LIGHTCOND')\n",
    "junction_type = collisions_data.get_column('JUNCTIONTYPE')\n",
    "severity = collisions_data.get_column('SEVERITYDESC')\n",
    "\n",
    "X_train = [[weather[i],road_condition[i],light_condition[i],junction_type[i],severity[i]] for i in range(len(weather))]\n",
    "y_train = collisions_data.get_column('COLLISIONTYPE')\n",
    "\n",
    "for i,val in enumerate(y_train):\n",
    "    if val == 'Unknown':\n",
    "        del y_train[i]\n",
    "        del X_train[i]\n",
    "\n",
    "strattrain_folds, strattest_folds = myevaluation.stratified_kfold_cross_validation(X_train, y_train, 10)\n",
    "strat_xtrain, strat_ytrain, strat_xtest, strat_ytest = myutils.get_from_folds(X_train, y_train, strattrain_folds, strattest_folds)\n",
    "\n",
    "myb = MyNaiveBayesClassifier()\n",
    "myb.fit(strat_xtrain, strat_ytrain)\n",
    "\n",
    "predicted = myb.predict(strat_xtest)\n",
    "accuracy = juputils.get_accuracy(strat_ytest, predicted)\n",
    "print('Naive Bayes: accuracy =', accuracy, 'error rate = ', (1-accuracy))"
   ]
  },
  {
   "cell_type": "code",
   "execution_count": 10,
   "metadata": {},
   "outputs": [
    {
     "name": "stdout",
     "output_type": "stream",
     "text": [
      "===========================================\n",
      "Confusion Matrix For Bayes and Collision Type\n",
      "===========================================\n",
      "\n",
      "======  ===  ===  ===  ===  ===  ===  ===  ===  ===  ====  =======  =================\n",
      "  Cars    1    2    3    4    5    6    7    8    9    10    Total    Recognition (%)\n",
      "======  ===  ===  ===  ===  ===  ===  ===  ===  ===  ====  =======  =================\n",
      "     1  839    0   83   39  129    1    1    2    0     0     1095              76.62\n",
      "     2   13    2   15    0   24    0    4    6    0     0       66               3.03\n",
      "     3  180    1  173   21  152    0    0    2    0     1      533              32.46\n",
      "     4  164    0   26   34  125    0    0    0    0     0      353               9.63\n",
      "     5  168    0   34   40  559    0    2    3    0     0      811              68.93\n",
      "     6    0    0    0    0    0  909    0    0    0     0      915              99.34\n",
      "     7    8    1   10    0   35    2    6    4    0     0       73               8.22\n",
      "     8    8    0   10    0   24    0    2    9    0     0       61              14.75\n",
      "     9   12    0    7    0   11    0    0    1    0     0       40               0\n",
      "    10   11    0    6    4   27    0    0    0    0     0       58               0\n",
      "======  ===  ===  ===  ===  ===  ===  ===  ===  ===  ====  =======  =================\n"
     ]
    }
   ],
   "source": [
    "print('===========================================\\n\\\n",
    "Confusion Matrix For Bayes and Collision Type\\n\\\n",
    "===========================================\\n')\n",
    "matrix = myevaluation.confusion_matrix(strat_ytest, predicted, collision_unique_labels)\n",
    "table_header = ['Cars', 1,2, 3 ,4, 5, 6, 7, 8,9,10, 'Total', 'Recognition (%)']\n",
    "juputils.add_conf_stats(matrix)\n",
    "juputils.print_tabulate(matrix, table_header)"
   ]
  }
 ],
 "metadata": {
  "kernelspec": {
   "display_name": "Python 3",
   "language": "python",
   "name": "python3"
  },
  "language_info": {
   "codemirror_mode": {
    "name": "ipython",
    "version": 3
   },
   "file_extension": ".py",
   "mimetype": "text/x-python",
   "name": "python",
   "nbconvert_exporter": "python",
   "pygments_lexer": "ipython3",
   "version": "3.8.5"
  }
 },
 "nbformat": 4,
 "nbformat_minor": 4
}
