{
 "cells": [
  {
   "cell_type": "markdown",
   "metadata": {},
   "source": [
    "# PA6 EDA"
   ]
  },
  {
   "cell_type": "code",
   "execution_count": 1,
   "metadata": {},
   "outputs": [],
   "source": [
    "# some useful mysklearn package import statements and reloads\n",
    "import importlib\n",
    "\n",
    "import mysklearn.myutils\n",
    "importlib.reload(mysklearn.myutils)\n",
    "import mysklearn.myutils as myutils\n",
    "\n",
    "import mysklearn.mypytable\n",
    "importlib.reload(mysklearn.mypytable)\n",
    "from mysklearn.mypytable import MyPyTable \n",
    "\n",
    "import juputils\n",
    "importlib.reload(juputils)\n",
    "\n",
    "import mysklearn.myclassifiers\n",
    "importlib.reload(mysklearn.myclassifiers)\n",
    "from mysklearn.myclassifiers import MyKNeighborsClassifier, MySimpleLinearRegressor, MyNaiveBayesClassifier, MyDecisionTreeClassifier\n",
    "\n",
    "import mysklearn.myevaluation\n",
    "importlib.reload(mysklearn.myevaluation)\n",
    "import mysklearn.myevaluation as myevaluation"
   ]
  },
  {
   "cell_type": "code",
   "execution_count": 21,
   "metadata": {},
   "outputs": [
    {
     "name": "stdout",
     "output_type": "stream",
     "text": [
      "Tree: accuracy = 0.6523364485981309 error rate =  0.3476635514018691\n"
     ]
    }
   ],
   "source": [
    "import os\n",
    "importlib.reload(juputils)\n",
    "\n",
    "fname = os.path.join(\"input_data\", \"collisions.csv\")\n",
    "collisions_data = MyPyTable().load_from_file(fname)\n",
    "# Use: WEATHER, ROADCOND, LIGHTCOND, JUNCTIONTYPE\n",
    "# Predict: SEVERITYDESC\n",
    "weather = collisions_data.get_column('WEATHER')\n",
    "road_condition = collisions_data.get_column('ROADCOND')\n",
    "light_condition = collisions_data.get_column('LIGHTCOND')\n",
    "junction_type = collisions_data.get_column('JUNCTIONTYPE')\n",
    "\n",
    "X_train = [[weather[i],road_condition[i],light_condition[i],junction_type[i]] for i in range(len(weather))]\n",
    "y_train = collisions_data.get_column('SEVERITYDESC')\n",
    "\n",
    "for i,val in enumerate(y_train):\n",
    "    if val == 'Unknown':\n",
    "        del y_train[i]\n",
    "        del X_train[i]\n",
    "\n",
    "strattrain_folds, strattest_folds = myevaluation.stratified_kfold_cross_validation(X_train, y_train, 10)\n",
    "strat_xtrain, strat_ytrain, strat_xtest, strat_ytest = myutils.get_from_folds(X_train, y_train, strattrain_folds, strattest_folds)\n",
    "\n",
    "myt = MyDecisionTreeClassifier()\n",
    "myt.fit(strat_xtrain, strat_ytrain)\n",
    "\n",
    "predicted = myt.predict(strat_xtest)\n",
    "accuracy = juputils.get_accuracy(strat_ytest, predicted)\n",
    "print('Tree: accuracy =', accuracy, 'error rate = ', (1-accuracy))"
   ]
  },
  {
   "cell_type": "code",
   "execution_count": 20,
   "metadata": {},
   "outputs": [
    {
     "name": "stdout",
     "output_type": "stream",
     "text": [
      "5500\n",
      "5500\n",
      "Naive Bayes: accuracy = 0.6610591900311527 error rate =  0.33894080996884735\n"
     ]
    }
   ],
   "source": [
    "import os\n",
    "importlib.reload(juputils)\n",
    "\n",
    "fname = os.path.join(\"input_data\", \"collisions.csv\")\n",
    "collisions_data = MyPyTable().load_from_file(fname)\n",
    "# Use: WEATHER, ROADCOND, LIGHTCOND, JUNCTIONTYPE\n",
    "# Predict: SEVERITYDESC\n",
    "weather = collisions_data.get_column('WEATHER')\n",
    "road_condition = collisions_data.get_column('ROADCOND')\n",
    "light_condition = collisions_data.get_column('LIGHTCOND')\n",
    "junction_type = collisions_data.get_column('JUNCTIONTYPE')\n",
    "\n",
    "X_train = [[weather[i],road_condition[i],light_condition[i],junction_type[i]] for i in range(len(weather))]\n",
    "y_train = collisions_data.get_column('SEVERITYDESC')\n",
    "\n",
    "for i,val in enumerate(y_train):\n",
    "    if val == 'Unknown':\n",
    "        del y_train[i]\n",
    "        del X_train[i]\n",
    "\n",
    "strattrain_folds, strattest_folds = myevaluation.stratified_kfold_cross_validation(X_train, y_train, 10)\n",
    "strat_xtrain, strat_ytrain, strat_xtest, strat_ytest = myutils.get_from_folds(X_train, y_train, strattrain_folds, strattest_folds)\n",
    "\n",
    "myb = MyNaiveBayesClassifier()\n",
    "myb.fit(strat_xtrain, strat_ytrain)\n",
    "\n",
    "predicted = myb.predict(strat_xtest)\n",
    "accuracy = juputils.get_accuracy(strat_ytest, predicted)\n",
    "print('Naive Bayes: accuracy =', accuracy, 'error rate = ', (1-accuracy))"
   ]
  }
 ],
 "metadata": {
  "kernelspec": {
   "display_name": "Python 3",
   "language": "python",
   "name": "python3"
  },
  "language_info": {
   "codemirror_mode": {
    "name": "ipython",
    "version": 3
   },
   "file_extension": ".py",
   "mimetype": "text/x-python",
   "name": "python",
   "nbconvert_exporter": "python",
   "pygments_lexer": "ipython3",
   "version": "3.8.5"
  }
 },
 "nbformat": 4,
 "nbformat_minor": 4
}
