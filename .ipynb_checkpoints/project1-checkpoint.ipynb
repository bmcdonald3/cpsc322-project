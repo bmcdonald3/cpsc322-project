{
 "cells": [
  {
   "cell_type": "markdown",
   "metadata": {},
   "source": [
    "# Project EDA\n",
    " - We explored predicting either the Severity or the Collision Type\n",
    "     - The collision type is more evenly distributed\n",
    "     - The severity is predicted more accurately (possibly, to be expected due to the distribution)"
   ]
  },
  {
   "cell_type": "code",
   "execution_count": 1,
   "metadata": {},
   "outputs": [],
   "source": [
    "# some useful mysklearn package import statements and reloads\n",
    "import importlib\n",
    "\n",
    "import mysklearn.myutils\n",
    "importlib.reload(mysklearn.myutils)\n",
    "import mysklearn.myutils as myutils\n",
    "\n",
    "import mysklearn.mypytable\n",
    "importlib.reload(mysklearn.mypytable)\n",
    "from mysklearn.mypytable import MyPyTable \n",
    "\n",
    "import juputils\n",
    "importlib.reload(juputils)\n",
    "\n",
    "import mysklearn.myclassifiers\n",
    "importlib.reload(mysklearn.myclassifiers)\n",
    "from mysklearn.myclassifiers import MyKNeighborsClassifier, MySimpleLinearRegressor, MyNaiveBayesClassifier, MyDecisionTreeClassifier\n",
    "\n",
    "import mysklearn.myevaluation\n",
    "importlib.reload(mysklearn.myevaluation)\n",
    "import mysklearn.myevaluation as myevaluation"
   ]
  },
  {
   "cell_type": "code",
   "execution_count": 2,
   "metadata": {},
   "outputs": [
    {
     "name": "stdout",
     "output_type": "stream",
     "text": [
      "['Injury Collision', 'Property Damage Only Collision', 'Serious Injury Collision', 'Unknown', 'Fatality Collision']\n",
      "[1399, 3206, 74, 810, 11]\n",
      "['Angles', 'Parked Car', 'Left Turn', 'Other', 'Sideswipe', 'Rear Ended', '', 'Pedestrian', 'Cycles', 'Right Turn', 'Head On']\n",
      "[828, 1113, 338, 614, 430, 870, 909, 162, 117, 63, 56]\n"
     ]
    }
   ],
   "source": [
    "import os\n",
    "importlib.reload(juputils)\n",
    "\n",
    "fname = os.path.join(\"input_data\", \"collisions.csv\")\n",
    "collisions_data = MyPyTable().load_from_file(fname)\n",
    "\n",
    "class_labels = collisions_data.get_column('SEVERITYDESC')\n",
    "\n",
    "severity_unique_labels = juputils.get_unique(class_labels)\n",
    "print(severity_unique_labels)\n",
    "\n",
    "print(juputils.get_counts(class_labels, severity_unique_labels))\n",
    "\n",
    "class_labels = collisions_data.get_column('COLLISIONTYPE')\n",
    "\n",
    "collision_unique_labels = juputils.get_unique(class_labels)\n",
    "print(collision_unique_labels)\n",
    "\n",
    "print(juputils.get_counts(class_labels, collision_unique_labels))"
   ]
  },
  {
   "cell_type": "code",
   "execution_count": 3,
   "metadata": {},
   "outputs": [
    {
     "name": "stdout",
     "output_type": "stream",
     "text": [
      "TREE FOR COLLISION SEVERITY\n",
      "Tree: accuracy = 0.6523364485981309 error rate =  0.3476635514018691\n"
     ]
    }
   ],
   "source": [
    "import os\n",
    "importlib.reload(juputils)\n",
    "\n",
    "print('TREE FOR COLLISION SEVERITY')\n",
    "\n",
    "fname = os.path.join(\"input_data\", \"collisions.csv\")\n",
    "collisions_data = MyPyTable().load_from_file(fname)\n",
    "# Use: WEATHER, ROADCOND, LIGHTCOND, JUNCTIONTYPE\n",
    "# Predict: SEVERITYDESC\n",
    "weather = collisions_data.get_column('WEATHER')\n",
    "road_condition = collisions_data.get_column('ROADCOND')\n",
    "light_condition = collisions_data.get_column('LIGHTCOND')\n",
    "junction_type = collisions_data.get_column('JUNCTIONTYPE')\n",
    "\n",
    "X_train = [[weather[i],road_condition[i],light_condition[i],junction_type[i]] for i in range(len(weather))]\n",
    "y_train = collisions_data.get_column('SEVERITYDESC')\n",
    "\n",
    "for i,val in enumerate(y_train):\n",
    "    if val == 'Unknown':\n",
    "        del y_train[i]\n",
    "        del X_train[i]\n",
    "\n",
    "strattrain_folds, strattest_folds = myevaluation.stratified_kfold_cross_validation(X_train, y_train, 10)\n",
    "strat_xtrain, strat_ytrain, strat_xtest, strat_ytest = myutils.get_from_folds(X_train, y_train, strattrain_folds, strattest_folds)\n",
    "\n",
    "myt = MyDecisionTreeClassifier()\n",
    "myt.fit(strat_xtrain, strat_ytrain)\n",
    "\n",
    "predicted = myt.predict(strat_xtest)\n",
    "accuracy = juputils.get_accuracy(strat_ytest, predicted)\n",
    "print('Tree: accuracy =', accuracy, 'error rate = ', (1-accuracy))"
   ]
  },
  {
   "cell_type": "code",
   "execution_count": 4,
   "metadata": {},
   "outputs": [
    {
     "name": "stdout",
     "output_type": "stream",
     "text": [
      "===========================================\n",
      "Confusion Matrix For Severity and Tree\n",
      "===========================================\n",
      "\n",
      "======  ====  ===  ===  ===  =======  =================\n",
      "  Cars     1    2    3    4    Total    Recognition (%)\n",
      "======  ====  ===  ===  ===  =======  =================\n",
      "     1  3056    0    0    0     3057              99.97\n",
      "     2    71    0    0    0       73               0\n",
      "     3   125    0    0    0      128               0\n",
      "     4    10    0    0    0       14               0\n",
      "======  ====  ===  ===  ===  =======  =================\n"
     ]
    }
   ],
   "source": [
    "print('===========================================\\n\\\n",
    "Confusion Matrix For Severity and Tree\\n\\\n",
    "===========================================\\n')\n",
    "matrix = myevaluation.confusion_matrix(strat_ytest, predicted, severity_unique_labels)\n",
    "table_header = ['Cars', 1,2, 3 ,4, 'Total', 'Recognition (%)']\n",
    "juputils.add_conf_stats(matrix)\n",
    "juputils.print_tabulate(matrix, table_header)"
   ]
  },
  {
   "cell_type": "code",
   "execution_count": 5,
   "metadata": {},
   "outputs": [
    {
     "name": "stdout",
     "output_type": "stream",
     "text": [
      "NAIVE BAYES FOR COLLISION SEVERITY\n",
      "Naive Bayes: accuracy = 0.6610591900311527 error rate =  0.33894080996884735\n"
     ]
    }
   ],
   "source": [
    "import os\n",
    "importlib.reload(juputils)\n",
    "\n",
    "print('NAIVE BAYES FOR COLLISION SEVERITY')\n",
    "\n",
    "fname = os.path.join(\"input_data\", \"collisions.csv\")\n",
    "collisions_data = MyPyTable().load_from_file(fname)\n",
    "# Use: WEATHER, ROADCOND, LIGHTCOND, JUNCTIONTYPE\n",
    "# Predict: SEVERITYDESC\n",
    "weather = collisions_data.get_column('WEATHER')\n",
    "road_condition = collisions_data.get_column('ROADCOND')\n",
    "light_condition = collisions_data.get_column('LIGHTCOND')\n",
    "junction_type = collisions_data.get_column('JUNCTIONTYPE')\n",
    "\n",
    "X_train = [[weather[i],road_condition[i],light_condition[i],junction_type[i]] for i in range(len(weather))]\n",
    "y_train = collisions_data.get_column('SEVERITYDESC')\n",
    "\n",
    "for i,val in enumerate(y_train):\n",
    "    if val == 'Unknown':\n",
    "        del y_train[i]\n",
    "        del X_train[i]\n",
    "\n",
    "strattrain_folds, strattest_folds = myevaluation.stratified_kfold_cross_validation(X_train, y_train, 10)\n",
    "strat_xtrain, strat_ytrain, strat_xtest, strat_ytest = myutils.get_from_folds(X_train, y_train, strattrain_folds, strattest_folds)\n",
    "\n",
    "myb = MyNaiveBayesClassifier()\n",
    "myb.fit(strat_xtrain, strat_ytrain)\n",
    "\n",
    "predicted = myb.predict(strat_xtest)\n",
    "accuracy = juputils.get_accuracy(strat_ytest, predicted)\n",
    "print('Naive Bayes: accuracy =', accuracy, 'error rate = ', (1-accuracy))"
   ]
  },
  {
   "cell_type": "code",
   "execution_count": 6,
   "metadata": {},
   "outputs": [
    {
     "name": "stdout",
     "output_type": "stream",
     "text": [
      "===========================================\n",
      "Confusion Matrix For Severity and Bayes\n",
      "===========================================\n",
      "\n",
      "======  ====  ===  ===  ===  =======  =================\n",
      "  Cars     1    2    3    4    Total    Recognition (%)\n",
      "======  ====  ===  ===  ===  =======  =================\n",
      "     1  2728    0   79    0     2808              97.15\n",
      "     2    45    0    3    0       50               0\n",
      "     3     0    0  125    0      128              97.66\n",
      "     4    10    0    0    0       14               0\n",
      "======  ====  ===  ===  ===  =======  =================\n"
     ]
    }
   ],
   "source": [
    "print('===========================================\\n\\\n",
    "Confusion Matrix For Severity and Bayes\\n\\\n",
    "===========================================\\n')\n",
    "matrix = myevaluation.confusion_matrix(strat_ytest, predicted, severity_unique_labels)\n",
    "table_header = ['Cars', 1,2, 3 ,4, 'Total', 'Recognition (%)']\n",
    "juputils.add_conf_stats(matrix)\n",
    "juputils.print_tabulate(matrix, table_header)"
   ]
  },
  {
   "cell_type": "code",
   "execution_count": 7,
   "metadata": {},
   "outputs": [
    {
     "name": "stdout",
     "output_type": "stream",
     "text": [
      "DECISION TREE FOR COLLISION TYPE\n",
      "Tree: accuracy = 0.20672727272727273 error rate =  0.7932727272727272\n"
     ]
    }
   ],
   "source": [
    "import os\n",
    "importlib.reload(juputils)\n",
    "\n",
    "print('DECISION TREE FOR COLLISION TYPE')\n",
    "\n",
    "fname = os.path.join(\"input_data\", \"collisions.csv\")\n",
    "collisions_data = MyPyTable().load_from_file(fname)\n",
    "# Use: WEATHER, ROADCOND, LIGHTCOND, JUNCTIONTYPE\n",
    "# Predict: SEVERITYDESC\n",
    "weather = collisions_data.get_column('WEATHER')\n",
    "road_condition = collisions_data.get_column('ROADCOND')\n",
    "light_condition = collisions_data.get_column('LIGHTCOND')\n",
    "junction_type = collisions_data.get_column('JUNCTIONTYPE')\n",
    "severity = collisions_data.get_column('SEVERITYDESC')\n",
    "\n",
    "X_train = [[weather[i],road_condition[i],light_condition[i],junction_type[i],severity[i]] for i in range(len(weather))]\n",
    "y_train = collisions_data.get_column('COLLISIONTYPE')\n",
    "\n",
    "for i,val in enumerate(y_train):\n",
    "    if val == 'Unknown':\n",
    "        del y_train[i]\n",
    "        del X_train[i]\n",
    "\n",
    "strattrain_folds, strattest_folds = myevaluation.stratified_kfold_cross_validation(X_train, y_train, 10)\n",
    "strat_xtrain, strat_ytrain, strat_xtest, strat_ytest = myutils.get_from_folds(X_train, y_train, strattrain_folds, strattest_folds)\n",
    "\n",
    "myt = MyDecisionTreeClassifier()\n",
    "myt.fit(strat_xtrain, strat_ytrain)\n",
    "\n",
    "predicted = myt.predict(strat_xtest)\n",
    "accuracy = juputils.get_accuracy(strat_ytest, predicted)\n",
    "print('Tree: accuracy =', accuracy, 'error rate = ', (1-accuracy))"
   ]
  },
  {
   "cell_type": "code",
   "execution_count": 8,
   "metadata": {},
   "outputs": [
    {
     "ename": "SyntaxError",
     "evalue": "invalid syntax (<ipython-input-8-e3d364e1d782>, line 5)",
     "output_type": "error",
     "traceback": [
      "\u001b[0;36m  File \u001b[0;32m\"<ipython-input-8-e3d364e1d782>\"\u001b[0;36m, line \u001b[0;32m5\u001b[0m\n\u001b[0;31m    table_header = ['Cars', 1,2, 3 ,4, 5, 6, 7, 8,9,10 'Total', 'Recognition (%)']\u001b[0m\n\u001b[0m                                                       ^\u001b[0m\n\u001b[0;31mSyntaxError\u001b[0m\u001b[0;31m:\u001b[0m invalid syntax\n"
     ]
    }
   ],
   "source": [
    "print('===========================================\\n\\\n",
    "Confusion Matrix For Collision Type and Tree\\n\\\n",
    "===========================================\\n')\n",
    "matrix = myevaluation.confusion_matrix(strat_ytest, predicted, collision_unique_labels)\n",
    "table_header = ['Cars', 1,2, 3 ,4, 5, 6, 7, 8,9,10, 'Total', 'Recognition (%)']\n",
    "juputils.add_conf_stats(matrix)\n",
    "juputils.print_tabulate(matrix, table_header)"
   ]
  },
  {
   "cell_type": "code",
   "execution_count": null,
   "metadata": {},
   "outputs": [],
   "source": [
    "import os\n",
    "importlib.reload(juputils)\n",
    "\n",
    "print('NAIVE BAYES FOR COLLISION TYPE')\n",
    "\n",
    "fname = os.path.join(\"input_data\", \"collisions.csv\")\n",
    "collisions_data = MyPyTable().load_from_file(fname)\n",
    "# Use: WEATHER, ROADCOND, LIGHTCOND, JUNCTIONTYPE\n",
    "# Predict: SEVERITYDESC\n",
    "weather = collisions_data.get_column('WEATHER')\n",
    "road_condition = collisions_data.get_column('ROADCOND')\n",
    "light_condition = collisions_data.get_column('LIGHTCOND')\n",
    "junction_type = collisions_data.get_column('JUNCTIONTYPE')\n",
    "severity = collisions_data.get_column('SEVERITYDESC')\n",
    "\n",
    "X_train = [[weather[i],road_condition[i],light_condition[i],junction_type[i],severity[i]] for i in range(len(weather))]\n",
    "y_train = collisions_data.get_column('COLLISIONTYPE')\n",
    "\n",
    "for i,val in enumerate(y_train):\n",
    "    if val == 'Unknown':\n",
    "        del y_train[i]\n",
    "        del X_train[i]\n",
    "\n",
    "strattrain_folds, strattest_folds = myevaluation.stratified_kfold_cross_validation(X_train, y_train, 10)\n",
    "strat_xtrain, strat_ytrain, strat_xtest, strat_ytest = myutils.get_from_folds(X_train, y_train, strattrain_folds, strattest_folds)\n",
    "\n",
    "myb = MyNaiveBayesClassifier()\n",
    "myb.fit(strat_xtrain, strat_ytrain)\n",
    "\n",
    "predicted = myb.predict(strat_xtest)\n",
    "accuracy = juputils.get_accuracy(strat_ytest, predicted)\n",
    "print('Naive Bayes: accuracy =', accuracy, 'error rate = ', (1-accuracy))"
   ]
  },
  {
   "cell_type": "code",
   "execution_count": null,
   "metadata": {},
   "outputs": [],
   "source": [
    "print('===========================================\\n\\\n",
    "Confusion Matrix For Bayes and Collision Type\\n\\\n",
    "===========================================\\n')\n",
    "matrix = myevaluation.confusion_matrix(strat_ytest, predicted, collision_unique_labels)\n",
    "table_header = ['Cars', 1,2, 3 ,4, 5, 6, 7, 8,9,10, 'Total', 'Recognition (%)']\n",
    "juputils.add_conf_stats(matrix)\n",
    "juputils.print_tabulate(matrix, table_header)"
   ]
  }
 ],
 "metadata": {
  "kernelspec": {
   "display_name": "Python 3",
   "language": "python",
   "name": "python3"
  },
  "language_info": {
   "codemirror_mode": {
    "name": "ipython",
    "version": 3
   },
   "file_extension": ".py",
   "mimetype": "text/x-python",
   "name": "python",
   "nbconvert_exporter": "python",
   "pygments_lexer": "ipython3",
   "version": "3.8.5"
  }
 },
 "nbformat": 4,
 "nbformat_minor": 4
}
