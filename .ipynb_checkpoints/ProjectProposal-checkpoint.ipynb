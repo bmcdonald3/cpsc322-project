{
 "metadata": {
  "language_info": {
   "codemirror_mode": {
    "name": "ipython",
    "version": 3
   },
   "file_extension": ".py",
   "mimetype": "text/x-python",
   "name": "python",
   "nbconvert_exporter": "python",
   "pygments_lexer": "ipython3",
   "version": 3
  },
  "orig_nbformat": 2
 },
 "nbformat": 4,
 "nbformat_minor": 2,
 "cells": [
  {
   "source": [
    "# Vehicle Collisons in Seattle\n",
    " Team Members: Ben McDonald, Meghan Rogers"
   ],
   "cell_type": "markdown",
   "metadata": {}
  },
  {
   "source": [
    "## Dataset Description\n",
    "\n",
    "We have chosen a dataset (collisions.csv) from this [source](www.data.gov).  \n",
    "\n",
    "The contents of the dataset include the date, location, severity description, weather, road conditions, light conditions,    \n",
    "speed, vehicle count, injury count, and more about vehicle collisions that have occurred in Seattle, WA.  \n",
    "\n",
    "Our goal is to predict the severity type of an accident based on attributes such as the junction type, weather,  \n",
    "road conditions, and light conditions.   \n"
   ],
   "cell_type": "markdown",
   "metadata": {}
  },
  {
   "source": [
    "## Implementation/Technical Merit\n",
    "\n",
    "This dataset is extremely large, about 250,000 collisions, because it holds vehicle collision information for the entire city  \n",
    "of Seattle. We have already cut the datset down to the first 5,000 collisions, and we anticipate potentially having to  \n",
    "decrease the amount of data in those 5,000 collisions that we actually want to use.\n",
    "\n",
    "If the data becomes too large to work with, we could trim the dataset by selecting rows (collisions) based on the data that  \n",
    "the accident occured (most recent first). "
   ],
   "cell_type": "markdown",
   "metadata": {}
  },
  {
   "source": [
    "## Potential Impact of the Results\n",
    "\n",
    "These results are useful because one could potentially determine which time of day or road/weather conditions to avoid based  \n",
    "on the frequency of collisions that occurred during such conditions (e.g. rainy, muddy, foggy, etc). \n",
    "\n",
    "All drivers in Seattle are stakeholders interested in these results because the results from our analysis could impact  \n",
    "their decision to drive on any given day. "
   ],
   "cell_type": "markdown",
   "metadata": {}
  }
 ]
}